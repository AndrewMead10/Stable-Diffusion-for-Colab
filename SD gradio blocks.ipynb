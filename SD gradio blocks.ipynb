{
 "cells": [
  {
   "cell_type": "code",
   "execution_count": null,
   "metadata": {},
   "outputs": [],
   "source": [
    "!nvidia-smi"
   ]
  },
  {
   "cell_type": "code",
   "execution_count": null,
   "metadata": {},
   "outputs": [],
   "source": [
    "!pip install -q diffusers\n",
    "!pip install -q transformers scipy ftfy\n",
    "!pip install -q \"ipywidgets>=7,<8\"\n",
    "!pip install -q gradio"
   ]
  },
  {
   "cell_type": "code",
   "execution_count": null,
   "metadata": {},
   "outputs": [],
   "source": [
    "from google.colab import output\n",
    "output.enable_custom_widget_manager()\n",
    "\n",
    "from huggingface_hub import notebook_login\n",
    "notebook_login()"
   ]
  },
  {
   "cell_type": "code",
   "execution_count": null,
   "metadata": {},
   "outputs": [],
   "source": [
    "from diffusers import DiffusionPipeline\n",
    "\n",
    "pipeline = DiffusionPipeline.from_pretrained(\"CompVis/stable-diffusion-v1-4\", use_auth_token=True).to('cuda')"
   ]
  },
  {
   "cell_type": "code",
   "execution_count": null,
   "metadata": {},
   "outputs": [],
   "source": [
    "from torch import autocast\n",
    "import IPython.display\n",
    "\n",
    "\n",
    "prompt = \"space mining colony by Alena Aenami and Anato Finnstark \"#@param{type:\"string\"}\n",
    "num_imgs = 5#@param{type:\"integer\"}\n",
    "height = 512#@param{type:\"integer\"}\n",
    "width = 512#@param{type:\"integer\"}\n",
    "\n",
    "for i in range(num_imgs):\n",
    "    with autocast(\"cuda\"):\n",
    "        image = pipeline(prompt, width=width, height=height)[\"sample\"][0]\n",
    "    IPython.display.display(image)"
   ]
  },
  {
   "cell_type": "code",
   "execution_count": 8,
   "metadata": {},
   "outputs": [],
   "source": [
    "def make_img(prompt, width, height, num_imgs):\n",
    "    imgs = []\n",
    "    for _ in range(num_imgs):\n",
    "        with autocast(\"cuda\"):\n",
    "            image = pipeline(prompt, width=width, height=height)[\"sample\"][0]\n",
    "            imgs.append(image)\n",
    "    return imgs"
   ]
  },
  {
   "cell_type": "code",
   "execution_count": 11,
   "metadata": {},
   "outputs": [
    {
     "name": "stdout",
     "output_type": "stream",
     "text": [
      "{height}\n"
     ]
    },
    {
     "name": "stderr",
     "output_type": "stream",
     "text": [
      "c:\\Users\\andre\\AppData\\Local\\Programs\\Python\\Python38\\lib\\site-packages\\gradio\\outputs.py:42: UserWarning: Usage of gradio.outputs is deprecated, and will not be supported in the future, please import your components from gradio.components\n",
      "  warnings.warn(\n"
     ]
    },
    {
     "name": "stderr",
     "output_type": "stream",
     "text": [
      "Socket exception: An existing connection was forcibly closed by the remote host (10054)\n"
     ]
    }
   ],
   "source": [
    "import gradio as gr\n",
    "\n",
    "with gr.Blocks() as frontend:\n",
    "    prompt = gr.Textbox(label=\"Prompt\")\n",
    "    height = gr.Slider(minimum=512, maximum=1280, value=512, step=64, label=\"Height\", interactive=True)\n",
    "    width = gr.Slider(minimum=512, maximum=1280, value=512, step=64, label=\"Width\", interactive=True)\n",
    "    num_imgs = gr.Slider(minimum=1, maximum=10, value=3, step=1, label=\"Number of Images\", interactive=True)\n",
    "    output = gr.outputs.Image(label=\"Output\")\n",
    "    diffuse = gr.Button(label=\"Diffuse\")\n",
    "    diffuse.click(make_img, prompt, width, height, num_imgs)\n",
    "\n",
    "# frontend.launch(share=True)\n"
   ]
  },
  {
   "cell_type": "code",
   "execution_count": null,
   "metadata": {},
   "outputs": [],
   "source": []
  }
 ],
 "metadata": {
  "kernelspec": {
   "display_name": "Python 3.8.5 64-bit",
   "language": "python",
   "name": "python3"
  },
  "language_info": {
   "codemirror_mode": {
    "name": "ipython",
    "version": 3
   },
   "file_extension": ".py",
   "mimetype": "text/x-python",
   "name": "python",
   "nbconvert_exporter": "python",
   "pygments_lexer": "ipython3",
   "version": "3.8.5"
  },
  "orig_nbformat": 4,
  "vscode": {
   "interpreter": {
    "hash": "3a4fd3c0dcbc658b189fbf5814096262f6268a6dc22fca0ed725de03044a0d6b"
   }
  }
 },
 "nbformat": 4,
 "nbformat_minor": 2
}
